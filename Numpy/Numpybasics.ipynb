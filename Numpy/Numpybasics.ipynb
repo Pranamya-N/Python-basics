{
 "cells": [
  {
   "cell_type": "markdown",
   "id": "90c60d6f-22c3-4516-8ba3-40f95b1d7034",
   "metadata": {},
   "source": [
    "# Creating Numpy array"
   ]
  },
  {
   "cell_type": "code",
   "execution_count": 19,
   "id": "a2566a61-958f-41e8-9dab-488cb180174f",
   "metadata": {},
   "outputs": [],
   "source": [
    "import numpy as np "
   ]
  },
  {
   "cell_type": "code",
   "execution_count": 125,
   "id": "293b3105-888b-45c5-9906-b7f86dc7c79f",
   "metadata": {},
   "outputs": [
    {
     "name": "stdout",
     "output_type": "stream",
     "text": [
      "[1 2 3 4 5 6 7 8]\n",
      "<class 'numpy.ndarray'>\n",
      "[[ 1.  2.  3.  4.  5.]\n",
      " [ 6.  7.  8.  9. 10.]]\n"
     ]
    }
   ],
   "source": [
    "\n",
    "oneD_array = np.array ([1,2,3,4,5,6,7,8])\n",
    "print(oneD_array)\n",
    "print(type(oneD_array))\n",
    "\n",
    "#similarly for 2D or more dimensional arrays we can create 2D or more Dimensional lists\n",
    "\n",
    "# WE CAN MAKE THE ARRAY HAVING ONE DATA TYPE ALSO \n",
    "\n",
    "B = np.array([[1,2,3,4,5],[6,7,8,9,10]],dtype = float)\n",
    "print(B)\n",
    "\n",
    "#THIS WILL CREATE THE FLOAT DATATYPE \n"
   ]
  },
  {
   "cell_type": "markdown",
   "id": "85a7a991-aeb8-457e-9cb2-f75797531fec",
   "metadata": {},
   "source": [
    "ARANGE AND RESHAPE \n"
   ]
  },
  {
   "cell_type": "code",
   "execution_count": 108,
   "id": "579fbb1a-82cf-4328-a92b-879fc6ae234b",
   "metadata": {},
   "outputs": [
    {
     "name": "stdout",
     "output_type": "stream",
     "text": [
      "[ 1  2  3  4  5  6  7  8  9 10]\n",
      "[[ 1  2]\n",
      " [ 3  4]\n",
      " [ 5  6]\n",
      " [ 7  8]\n",
      " [ 9 10]]\n",
      "[[[ 1  2]\n",
      "  [ 3  4]\n",
      "  [ 5  6]]\n",
      "\n",
      " [[ 7  8]\n",
      "  [ 9 10]\n",
      "  [11 12]]]\n"
     ]
    }
   ],
   "source": [
    "#range fucntions of numpy array \n",
    "#np.aragne\n",
    "a = np.arange(1,11)\n",
    "print(a)\n",
    "type(a)\n",
    "#THIS WILL ALSO CREATE AN NUMPY ARRAY AND IT WORKS SIMILAR TO THE RANGE FUNCTIONS \n",
    "\n",
    "\n",
    "#np.reshape\n",
    "# WHEN WE USE RESHAPE IT WILL CREATE THE MULTIDIMENSIONAL ARRAYS it takes 2 arguments rows and columns \n",
    "print(np.arange(1,11) . reshape (5,2))\n",
    "\n",
    "# THE RESHAPE FUNCTION WILL ONLY WORK IF THE PRODUCT OF ROWS AND THE COLUMNS OF THE RESHAPE IS EQUAL TO THE NUMBER OF ELEMENTS \n",
    "# OF THE ARANGE FUNCTIONS \n",
    "# we can also make 3D arrays by using arange \n",
    "\n",
    "b = np.arange (1,13) . reshape (2,3,2)  # this will make 2 layers \n",
    "print(b)\n"
   ]
  },
  {
   "cell_type": "markdown",
   "id": "09b27940-6c64-414a-8a21-5cee3833fc15",
   "metadata": {},
   "source": [
    "NP.ONES AND NP.ZEROS"
   ]
  },
  {
   "cell_type": "code",
   "execution_count": 76,
   "id": "f94c9b6f-8d5c-4973-a665-3ba1d13e990d",
   "metadata": {},
   "outputs": [
    {
     "name": "stdout",
     "output_type": "stream",
     "text": [
      "[[1. 1. 1. 1.]\n",
      " [1. 1. 1. 1.]\n",
      " [1. 1. 1. 1.]]\n",
      "[[0. 0. 0. 0.]\n",
      " [0. 0. 0. 0.]\n",
      " [0. 0. 0. 0.]]\n"
     ]
    }
   ],
   "source": [
    "#np.ones is used to make an array which contains all the element 1 and similarly np.zero makes 0 \n",
    "# they take 2 qarguments one is for the row and another is for the columns \n",
    "\n",
    "a = np.ones ((3,4)) # this will make the array of 3 rows and 4 columns \n",
    "# it takes tuples as an arguments \n",
    "print(a)\n",
    "\n",
    "b = np.zeros((3,4))\n",
    "print(b) # this will also make the array of 3 rows and 4 columns but the array will be of all the zero elements \n",
    "\n",
    "# IT IS MAINLY USED TO INNITIALIZE THE VALUES "
   ]
  },
  {
   "cell_type": "markdown",
   "id": "218aaf1d-6222-4c6f-b9d2-5a61885e21c6",
   "metadata": {},
   "source": [
    "NP.RANDOMS\n"
   ]
  },
  {
   "cell_type": "code",
   "execution_count": 80,
   "id": "04f3a851-fd7f-4b14-ad66-e6eff484c2e9",
   "metadata": {},
   "outputs": [
    {
     "name": "stdout",
     "output_type": "stream",
     "text": [
      "[[0.45812099 0.32554194 0.30155884 0.02142855]\n",
      " [0.13679162 0.49299257 0.75112154 0.84816071]\n",
      " [0.40204006 0.49258113 0.60251994 0.62370246]]\n"
     ]
    }
   ],
   "source": [
    "#NP.RANDOM IS ALSO USED TO INNITIALIZE THE VALUES BUT IT GENERATES THE RAANDOM VALUES \n",
    "# IT GENERATES THE VALUE IN BETWEEN O AND 1 \n",
    "\n",
    "a = np.random.random((3,4))\n",
    "print(a)\n"
   ]
  },
  {
   "cell_type": "markdown",
   "id": "66ba4aa5-bceb-488f-8732-bf911d2a2eee",
   "metadata": {},
   "source": [
    "NP.LINSPACE\n"
   ]
  },
  {
   "cell_type": "code",
   "execution_count": 113,
   "id": "eba2fc55-cf25-4252-8533-f5d1cae6d849",
   "metadata": {},
   "outputs": [
    {
     "name": "stdout",
     "output_type": "stream",
     "text": [
      "[-10.          -7.14285714  -4.28571429  -1.42857143   1.42857143\n",
      "   4.28571429   7.14285714  10.        ]\n"
     ]
    }
   ],
   "source": [
    "# np.linspace also works as an range fucntion \n",
    "\n",
    "a = np.linspace (-10,10,8)\n",
    "#SO WHAT THIS CODE WILL DO IS THAT IT TAKES 8 ELEMENTS FROM THE RANGE OF -10 TO 10 AND RANDOMLY GENERATE 8 NUMBERS \n",
    "#IT SEPERATES THE POINT LINEARLY MEANS IT SEPERATES THE NUMBERS BY EQUAL DISTANCE FOR REFRENCE SEE THE OUTPUT OF THIS SHELL \n",
    "print(a)"
   ]
  },
  {
   "cell_type": "markdown",
   "id": "117ac2ef-18a2-493e-a0b9-0cd9592d274d",
   "metadata": {},
   "source": [
    "NP.IDENTITY"
   ]
  },
  {
   "cell_type": "code",
   "execution_count": 116,
   "id": "f180cb96-504b-4bdb-901d-ea99ae8e99f7",
   "metadata": {},
   "outputs": [
    {
     "name": "stdout",
     "output_type": "stream",
     "text": [
      "[[1. 0. 0.]\n",
      " [0. 1. 0.]\n",
      " [0. 0. 1.]]\n"
     ]
    }
   ],
   "source": [
    "# np.identity makes the identity matrix \n",
    "a = np.identity (3)\n",
    "print(a)"
   ]
  },
  {
   "cell_type": "markdown",
   "id": "a81a8880-5be5-4dd2-81a1-1705096d2742",
   "metadata": {},
   "source": [
    "NUMY ARRAY ATTRIBUTES\n"
   ]
  },
  {
   "cell_type": "code",
   "execution_count": 33,
   "id": "a8474e2b-dc64-4a6f-a5d3-855ba35934e8",
   "metadata": {},
   "outputs": [
    {
     "data": {
      "text/plain": [
       "array([[ 0.,  1.,  2.,  3.],\n",
       "       [ 4.,  5.,  6.,  7.],\n",
       "       [ 8.,  9., 10., 11.]])"
      ]
     },
     "execution_count": 33,
     "metadata": {},
     "output_type": "execute_result"
    }
   ],
   "source": [
    "a1 = np.arange(10)\n",
    "a2 = np.arange(12,dtype = float ).reshape(3,4)\n",
    "a3 = np.arange(8).reshape(2,2,2)\n",
    "\n",
    "a2"
   ]
  },
  {
   "cell_type": "markdown",
   "id": "c34348cd-2680-440d-844c-35a95996263f",
   "metadata": {},
   "source": [
    "NDIM"
   ]
  },
  {
   "cell_type": "code",
   "execution_count": 165,
   "id": "ff40dabc-e0b2-4329-8644-823c4b79e8ba",
   "metadata": {},
   "outputs": [
    {
     "data": {
      "text/plain": [
       "2"
      ]
     },
     "execution_count": 165,
     "metadata": {},
     "output_type": "execute_result"
    }
   ],
   "source": [
    "# ndim is used to get the dimension of the array for eg \n",
    "\n",
    "a1.ndim  # it gives output 1 because the array is one dimensional \n",
    "a2.ndim # it gives the output 2 because the arrray is 2 dimensional "
   ]
  },
  {
   "cell_type": "markdown",
   "id": "cc0bfd6f-f761-4227-8ae6-10e9d4c2d839",
   "metadata": {},
   "source": [
    "SHAPE\n"
   ]
  },
  {
   "cell_type": "code",
   "execution_count": 41,
   "id": "0c9c04f1-2f53-4dcd-9e98-ad5c73521c65",
   "metadata": {},
   "outputs": [
    {
     "data": {
      "text/plain": [
       "(3, 4)"
      ]
     },
     "execution_count": 41,
     "metadata": {},
     "output_type": "execute_result"
    }
   ],
   "source": [
    "# it gives us the shape of the array \n",
    "\n",
    "a1.shape\n",
    "a2.shape\n",
    "# it gives us the number of rows and columns of the array or matrices "
   ]
  },
  {
   "cell_type": "markdown",
   "id": "638468da-b5fa-4199-b491-ca1c8e9e4d97",
   "metadata": {},
   "source": [
    "SIZE AND ITEMSIZE\n"
   ]
  },
  {
   "cell_type": "code",
   "execution_count": 181,
   "id": "a9b7203e-8339-467a-96c8-b4027ac89889",
   "metadata": {},
   "outputs": [
    {
     "name": "stdout",
     "output_type": "stream",
     "text": [
      "10\n"
     ]
    },
    {
     "data": {
      "text/plain": [
       "8"
      ]
     },
     "execution_count": 181,
     "metadata": {},
     "output_type": "execute_result"
    }
   ],
   "source": [
    "# size gives us the size fo the array and itemsize gives us how many memory is occupied by the array \n",
    "print(a1.size)   # it gives us the number of elements or the size of the array \n",
    "a2.itemsize      # this gives us how many bytes has the array occupied in the memory \n",
    "#THE SIZE IS IN BYTE \n"
   ]
  },
  {
   "cell_type": "markdown",
   "id": "87735423-e307-4ddd-9d85-cdee37629c2b",
   "metadata": {},
   "source": [
    "DTYPE\n"
   ]
  },
  {
   "cell_type": "code",
   "execution_count": 39,
   "id": "ff6e2875-f251-4236-99f8-947807505b48",
   "metadata": {},
   "outputs": [
    {
     "name": "stdout",
     "output_type": "stream",
     "text": [
      "int32\n",
      "float64\n",
      "int32\n"
     ]
    }
   ],
   "source": [
    "# WE CAN ALSO SEE THE DATATYPE OF THE NUMPY ARRAY BY DOING .dtype\n",
    "\n",
    "print(a1.dtype)\n",
    "print(a2.dtype)\n",
    "print(a3.dtype)"
   ]
  },
  {
   "cell_type": "markdown",
   "id": "20f0c658-1c67-4000-8c94-799df5a2ec40",
   "metadata": {},
   "source": [
    "CHANGING DATATYPE OF THE ARRAY \n"
   ]
  },
  {
   "cell_type": "code",
   "execution_count": 37,
   "id": "8e3d0167-2f5c-4d9d-b501-ac23256889a4",
   "metadata": {},
   "outputs": [
    {
     "name": "stdout",
     "output_type": "stream",
     "text": [
      "int32\n"
     ]
    }
   ],
   "source": [
    "# we can use astype to change the datatype of the numpy array \n",
    "a1.astype (np.int64)\n",
    "print(a1.dtype)"
   ]
  },
  {
   "cell_type": "markdown",
   "id": "721d2e7b-f2ee-49d1-9905-145ee5eaed05",
   "metadata": {},
   "source": [
    "FOR ARITHMETIC OPERATIONS WE CAN PERFORM ANY OPERATIONS WHICH IS SUPPORTED IN PYTHON "
   ]
  },
  {
   "cell_type": "markdown",
   "id": "5ffc18ef-776c-4e37-a8c2-7d0f83a42c13",
   "metadata": {},
   "source": [
    "MIN MAX SUM AND PRODUCT "
   ]
  },
  {
   "cell_type": "code",
   "execution_count": 43,
   "id": "de37b7a9-3a31-4c55-9a84-d967aafa5df6",
   "metadata": {},
   "outputs": [
    {
     "data": {
      "text/plain": [
       "array([12., 15., 18., 21.])"
      ]
     },
     "execution_count": 43,
     "metadata": {},
     "output_type": "execute_result"
    }
   ],
   "source": [
    "# np.min IT GIVES THE SMALLEST ELEMENT IN THE NUMPY ARRAY \n",
    "# np.max IT GIVES US THE LARGEST EEMENT OF AN ARRAY \n",
    "# np.sum IT GIVES US THE SUM OF ALL THE ELEMENT OF AN ARRAY \n",
    "# np. product IT GIVES US THE PRODUCT OF ALL THE ELEMENT OF AN ARRAY \n",
    "np.sum(a2,axis = 0)\n",
    "\n",
    "# AL THE FUNCTIONS TAKES AXIS AS AN PARAMETER IF AXIS = 0 IT SOLVES ROW AND IF AXIS = 1 IT SOLVES COLUMN \n"
   ]
  },
  {
   "cell_type": "markdown",
   "id": "7b95fe69-638b-48c6-a287-4463e0504bc2",
   "metadata": {},
   "source": [
    "SOME STATISTICS FUNCTION "
   ]
  },
  {
   "cell_type": "code",
   "execution_count": null,
   "id": "7daf39b4-d9e9-4b4c-87b1-a318ac9c69fa",
   "metadata": {},
   "outputs": [],
   "source": [
    "# np.mean , np.median ,np.std ,np.var \n"
   ]
  },
  {
   "cell_type": "markdown",
   "id": "513ad0fc-e6b9-4651-9473-e6547dd70947",
   "metadata": {},
   "source": [
    "DOT PRODUCTS "
   ]
  },
  {
   "cell_type": "code",
   "execution_count": 54,
   "id": "82acf0a9-39d3-4799-b409-599f70f4a0f8",
   "metadata": {},
   "outputs": [
    {
     "data": {
      "text/plain": [
       "array([[ 4.87724941,  6.0998814 ],\n",
       "       [ 8.67609799, 10.15686849]])"
      ]
     },
     "execution_count": 54,
     "metadata": {},
     "output_type": "execute_result"
    }
   ],
   "source": [
    "# we can only use dot product if the number of row of array 1 is equal to the number of rows of array 2 for eg :\n",
    "array1 = np.random.random(6).reshape(2,3)\n",
    "array2 = np.arange(3,9).reshape(3,2)\n",
    "np.dot(array1,array2)\n",
    "\n",
    "# this will give us the dot product of the array 1 and array 2 \n"
   ]
  },
  {
   "cell_type": "markdown",
   "id": "b1180c10-604d-4fa1-9163-97e74024a421",
   "metadata": {},
   "source": [
    "SOME OTHER NUMPY FUNCTIONS "
   ]
  },
  {
   "cell_type": "code",
   "execution_count": 57,
   "id": "45651797-8b82-41cb-8586-4f3cb0fe2d2b",
   "metadata": {},
   "outputs": [],
   "source": [
    "# np.round (it round up or round downs to the nearest value )\n",
    "# np.floor (it round down the value )\n",
    "# np.ceil (it rounds up the value )\n",
    "# np.log (it gives us the log value of every arrays element )\n",
    "# np.exp (it gives us the exponential value of the arrays element )\n"
   ]
  },
  {
   "cell_type": "markdown",
   "id": "0c5a4365-d8d6-41ec-b67d-56e069ff8b2e",
   "metadata": {},
   "source": [
    "INDEXING AND SLICING OF NUMPY ARRAYS "
   ]
  },
  {
   "cell_type": "markdown",
   "id": "9ca276ae-da1f-4c58-9bb5-51fd86ceec59",
   "metadata": {},
   "source": []
  }
 ],
 "metadata": {
  "kernelspec": {
   "display_name": "Python 3 (ipykernel)",
   "language": "python",
   "name": "python3"
  },
  "language_info": {
   "codemirror_mode": {
    "name": "ipython",
    "version": 3
   },
   "file_extension": ".py",
   "mimetype": "text/x-python",
   "name": "python",
   "nbconvert_exporter": "python",
   "pygments_lexer": "ipython3",
   "version": "3.12.4"
  }
 },
 "nbformat": 4,
 "nbformat_minor": 5
}
