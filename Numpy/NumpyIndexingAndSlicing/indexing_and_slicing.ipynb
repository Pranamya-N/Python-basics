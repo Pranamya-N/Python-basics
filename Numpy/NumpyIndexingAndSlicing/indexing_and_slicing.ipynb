{
 "cells": [
  {
   "cell_type": "markdown",
   "id": "ec238a34-a0b2-48c8-9cde-0f0f2822a1af",
   "metadata": {},
   "source": [
    "INDEXING AND SLICING \n"
   ]
  },
  {
   "cell_type": "code",
   "execution_count": 4,
   "id": "10aa0337-ca6a-406b-a848-2297f081dbc7",
   "metadata": {},
   "outputs": [],
   "source": [
    "import numpy as np "
   ]
  },
  {
   "cell_type": "code",
   "execution_count": 62,
   "id": "e8829808-2e92-4f0c-8906-b1d3ea3db9e1",
   "metadata": {},
   "outputs": [
    {
     "name": "stdout",
     "output_type": "stream",
     "text": [
      "[0 1 2 3 4 5 6 7]\n",
      "[[ 0  1  2]\n",
      " [ 3  4  5]\n",
      " [ 6  7  8]\n",
      " [ 9 10 11]]\n",
      "[[[ 1  2  3]\n",
      "  [ 4  5  6]]\n",
      "\n",
      " [[ 7  8  9]\n",
      "  [10 11 12]]]\n"
     ]
    }
   ],
   "source": [
    "a1 = np.arange(8)\n",
    "a2 = np.arange(12).reshape(4,3)\n",
    "a3 = np.linspace(1,12,num = 12).reshape(2,2,3).astype(int)\n",
    "\n",
    "print(a1)\n",
    "print(a2)\n",
    "print(a3)"
   ]
  },
  {
   "cell_type": "code",
   "execution_count": 64,
   "id": "30d6e3b3-66a2-47cd-89ca-4f772ee93fa0",
   "metadata": {},
   "outputs": [
    {
     "name": "stdout",
     "output_type": "stream",
     "text": [
      "7\n",
      "5\n",
      "6\n"
     ]
    }
   ],
   "source": [
    "# for indexing the 1D array you can just do as the thing that we had done in pythoon normally \n",
    "print(a1[-1])\n",
    "\n",
    "# for 2D array we have to give the indexong of the rows and column to extract the elements \n",
    "\n",
    "print(a2[1,2]) \n",
    "\n",
    "# for 3D array we have to understand how 3D array are formed so basically in 3D array there is depth so we have to index depth and other process is same \n",
    "# as 2D array for example we are indexing a3 \n",
    "\n",
    "print(a3[0,1,2])\n",
    "\n",
    "# ROW IS THE HORIZONTAL WHILE THE COLUMN IS VERTICAL "
   ]
  },
  {
   "cell_type": "markdown",
   "id": "15e8d08d-4858-49af-a654-c1482986e37b",
   "metadata": {},
   "source": [
    "SLICING OF 1D ARRAY "
   ]
  },
  {
   "cell_type": "code",
   "execution_count": 74,
   "id": "a5d4ddee-a730-44f5-9ae8-d9ad2e225b42",
   "metadata": {},
   "outputs": [
    {
     "name": "stdout",
     "output_type": "stream",
     "text": [
      "[2 3 4]\n",
      "[2 4]\n",
      "[2 3 4 5 6 7]\n"
     ]
    }
   ],
   "source": [
    "# SLICING IS THE PROCESS OF TAKING OUT MULTIPLE DATA BY GIVING ITS INDEX \n",
    "print(a1[2:5]) # THIS IS SLICING PROCESS IN 1D ARRAY \n",
    "print(a1[2:6:2]) # this will print the value of 2nd index and leave 2 index and again print the value of the next index \n",
    "print(a1[2:]) # this will print all the index from 2 to the last element "
   ]
  },
  {
   "cell_type": "markdown",
   "id": "fcf1493f-333c-4be8-a206-180402293829",
   "metadata": {},
   "source": [
    "SLICING OF 2D ARRAY "
   ]
  },
  {
   "cell_type": "code",
   "execution_count": 78,
   "id": "adf2ab84-4122-472f-9ce6-41e718af5ad9",
   "metadata": {},
   "outputs": [
    {
     "name": "stdout",
     "output_type": "stream",
     "text": [
      "[[ 0  1  2]\n",
      " [ 3  4  5]\n",
      " [ 6  7  8]\n",
      " [ 9 10 11]]\n"
     ]
    }
   ],
   "source": [
    "print(a2)"
   ]
  },
  {
   "cell_type": "code",
   "execution_count": 125,
   "id": "862ec665-bee5-4a83-824d-d1e660824c6b",
   "metadata": {},
   "outputs": [
    {
     "name": "stdout",
     "output_type": "stream",
     "text": [
      "[ 1  4  7 10]\n",
      "[0 1 2]\n",
      "7\n",
      "[[ 6  7]\n",
      " [ 9 10]]\n",
      "[[ 7  8]\n",
      " [10 11]]\n",
      "[[ 0  2]\n",
      " [ 9 11]]\n",
      "[6 8]\n"
     ]
    }
   ],
   "source": [
    "# now i want to get 1 ,4 , 7 ,10 in the output then the syntax i would use is \n",
    "print(a2[:,1])\n",
    "\n",
    "# if i want to get the first row which is 0,1,2 then i have to write  the following code \n",
    "print(a2[0,:])\n",
    "\n",
    "# if i want to get the individual element then \n",
    "print(a2[2,1])\n",
    "\n",
    "# if i want to get 6,7 and 9,10 as an output then \n",
    "\n",
    "print(a2[2:,0:2])\n",
    "\n",
    "# similarly if i want to get 7,8 and 11,12 then i would do \n",
    "print(a2[2:,1:])\n",
    "\n",
    "# if i want to get 0 ,2 , 9, 11 then i would do \n",
    "print(a2[::3,::2])\n",
    "\n",
    "# if i only want to get 6 and 8 then \n",
    "print(a2[2,::2])"
   ]
  },
  {
   "cell_type": "markdown",
   "id": "b046c293-b741-4ac6-a7ad-1fdbb1003e87",
   "metadata": {},
   "source": [
    "SLICING OF 3D ARRAY "
   ]
  },
  {
   "cell_type": "code",
   "execution_count": 131,
   "id": "8a917aa5-b97a-41d2-a359-afe89b9f8f4b",
   "metadata": {},
   "outputs": [
    {
     "name": "stdout",
     "output_type": "stream",
     "text": [
      "[[[ 1  2  3]\n",
      "  [ 4  5  6]]\n",
      "\n",
      " [[ 7  8  9]\n",
      "  [10 11 12]]]\n"
     ]
    }
   ],
   "source": [
    "print(a3)"
   ]
  },
  {
   "cell_type": "code",
   "execution_count": null,
   "id": "fb20a62d-4c22-4a26-a65c-97387d1b7e1c",
   "metadata": {},
   "outputs": [],
   "source": [
    "# here i want to print 7 then the code i will write is \n",
    "print(a3[1,0,0])\n",
    "\n",
    "# if i want to print 9,12 then the code i will write is\n",
    "\n",
    "print(a3[1,:,2])\n",
    "\n",
    "# if i want to print 8,9 then \n",
    "\n",
    "print (a3[1,0,1:])\n",
    "\n",
    "# if i want to print 7,8,10,11 then i will write \n",
    "\n",
    "print(a3[1,:,:2])\n",
    "\n",
    "# if i want to print 1,3 and 7,9 then i will write the following code\n",
    "\n",
    "print(a3[:,0,::2])"
   ]
  },
  {
   "cell_type": "code",
   "execution_count": 6,
   "id": "c10c2932-1ef0-468b-a648-e0ffed58eea0",
   "metadata": {},
   "outputs": [
    {
     "data": {
      "text/plain": [
       "array([[[ 0,  1,  2],\n",
       "        [ 3,  4,  5],\n",
       "        [ 6,  7,  8]],\n",
       "\n",
       "       [[ 9, 10, 11],\n",
       "        [12, 13, 14],\n",
       "        [15, 16, 17]],\n",
       "\n",
       "       [[18, 19, 20],\n",
       "        [21, 22, 23],\n",
       "        [24, 25, 26]]])"
      ]
     },
     "execution_count": 6,
     "metadata": {},
     "output_type": "execute_result"
    }
   ],
   "source": [
    "# some more practice \n",
    "a4 = np.arange(27).reshape(3,3,3)\n",
    "a4"
   ]
  },
  {
   "cell_type": "code",
   "execution_count": 8,
   "id": "fbb793fd-9ce8-41d6-afbd-a31be6d44c5a",
   "metadata": {},
   "outputs": [
    {
     "name": "stdout",
     "output_type": "stream",
     "text": [
      "[[ 0  2]\n",
      " [12 14]\n",
      " [21 23]]\n"
     ]
    }
   ],
   "source": [
    "# here i want to print 0,2,9,11,18,20\n",
    "#print(a4[:,0,0:3:2])\n",
    "\n",
    "# if i want the output od 0,2,12,14,21,23 then i will write \n",
    "#print(a4[0,0,::2],a4[1,1,::2],a4[2,1,::2])\n",
    "\n",
    "# we can achieve the output by another method also \n",
    "print(a4[[0,1,2],[0,1,1],::2])\n",
    "\n"
   ]
  },
  {
   "cell_type": "markdown",
   "id": "a8859d74-fcf4-4110-addd-578aee7f1cf8",
   "metadata": {},
   "source": [
    "ITERATING IN NUMPY ARRAY "
   ]
  },
  {
   "cell_type": "code",
   "execution_count": 206,
   "id": "bcfde9d9-df18-4878-acc1-9f02562401f1",
   "metadata": {},
   "outputs": [
    {
     "name": "stdout",
     "output_type": "stream",
     "text": [
      "0\n",
      "1\n",
      "2\n",
      "3\n",
      "4\n",
      "5\n",
      "6\n",
      "7\n"
     ]
    }
   ],
   "source": [
    "#iteration in 1D array \n",
    "for i in a1 :\n",
    "    print(i)\n",
    "# this will give2 each items"
   ]
  },
  {
   "cell_type": "code",
   "execution_count": 208,
   "id": "de33e413-2904-4236-847d-88f0bf90c3b4",
   "metadata": {},
   "outputs": [
    {
     "name": "stdout",
     "output_type": "stream",
     "text": [
      "[0 1 2]\n",
      "[3 4 5]\n",
      "[6 7 8]\n",
      "[ 9 10 11]\n"
     ]
    }
   ],
   "source": [
    "#iteration in 2D arrays \n",
    "for i in a2 :\n",
    "    print(i)\n",
    "#THIS WILL GIVE THE ITERATION IN 1D ARRAY "
   ]
  },
  {
   "cell_type": "code",
   "execution_count": 210,
   "id": "679d1c36-6d72-4429-8ac4-091aa439ab4b",
   "metadata": {},
   "outputs": [
    {
     "name": "stdout",
     "output_type": "stream",
     "text": [
      "[[0 1 2]\n",
      " [3 4 5]\n",
      " [6 7 8]]\n",
      "[[ 9 10 11]\n",
      " [12 13 14]\n",
      " [15 16 17]]\n",
      "[[18 19 20]\n",
      " [21 22 23]\n",
      " [24 25 26]]\n"
     ]
    }
   ],
   "source": [
    "#ITERATION IN 3D ARRAY \n",
    "for i in a3 :\n",
    "    print(i)\n",
    "# this will give the output in the 2D array "
   ]
  },
  {
   "cell_type": "code",
   "execution_count": 212,
   "id": "42134b3c-1b52-4d8c-bfcb-c12284856a4d",
   "metadata": {},
   "outputs": [
    {
     "name": "stdout",
     "output_type": "stream",
     "text": [
      "0\n",
      "1\n",
      "2\n",
      "3\n",
      "4\n",
      "5\n",
      "6\n",
      "7\n",
      "8\n",
      "9\n",
      "10\n",
      "11\n",
      "12\n",
      "13\n",
      "14\n",
      "15\n",
      "16\n",
      "17\n",
      "18\n",
      "19\n",
      "20\n",
      "21\n",
      "22\n",
      "23\n",
      "24\n",
      "25\n",
      "26\n"
     ]
    }
   ],
   "source": [
    "# to print the individual numbers in 2D array we can usse nd.iter function \n",
    "for i in np.nditer(a3):\n",
    "    print(i)\n"
   ]
  },
  {
   "cell_type": "markdown",
   "id": "caae4166-c890-4f7e-879e-829d5f193247",
   "metadata": {},
   "source": [
    "HORIZONTAL AND VERTICAL STACKING "
   ]
  },
  {
   "cell_type": "code",
   "execution_count": 236,
   "id": "3059cf2a-8440-4bd6-8a6d-468e52aad83b",
   "metadata": {},
   "outputs": [
    {
     "name": "stdout",
     "output_type": "stream",
     "text": [
      "[[ 0  1  2  3 12 13 14 15]\n",
      " [ 4  5  6  7 16 17 18 19]\n",
      " [ 8  9 10 11 20 21 22 23]]\n",
      "[[ 0  1  2  3]\n",
      " [ 4  5  6  7]\n",
      " [ 8  9 10 11]\n",
      " [12 13 14 15]\n",
      " [16 17 18 19]\n",
      " [20 21 22 23]]\n"
     ]
    }
   ],
   "source": [
    "# horizontal stacking \n",
    "# it will stack the arrays in the horizontal way for example \n",
    "a5 = np.arange(0,12).reshape(3,4)\n",
    "a6 = np.arange(12,24).reshape(3,4)\n",
    "print(np.hstack((a5,a6)))\n",
    "\n",
    "# there is only one requirement for the stacking that the shape of the array should be the same \n",
    "#np.vstack wil stack the output vertically \n",
    "print(np.vstack((a5,a6))) "
   ]
  },
  {
   "cell_type": "markdown",
   "id": "2846e46d-6686-466a-946c-a3cb830620ba",
   "metadata": {},
   "source": [
    "HORIZONTAL AND VERTICAL SPLITING "
   ]
  },
  {
   "cell_type": "code",
   "execution_count": 240,
   "id": "c3c1c5e3-915b-49cb-8676-cef70f96506c",
   "metadata": {},
   "outputs": [
    {
     "name": "stdout",
     "output_type": "stream",
     "text": [
      "[array([[0, 1],\n",
      "       [4, 5],\n",
      "       [8, 9]]), array([[ 2,  3],\n",
      "       [ 6,  7],\n",
      "       [10, 11]])]\n"
     ]
    }
   ],
   "source": [
    "print(np.hsplit(a5,2))\n",
    "# it will split the arrays here in the example the prameters are the arrays name and another example is the no of parts you want to divide the array "
   ]
  },
  {
   "cell_type": "code",
   "execution_count": 248,
   "id": "322f7888-2272-43db-ad5a-89180b06a3ba",
   "metadata": {},
   "outputs": [
    {
     "name": "stdout",
     "output_type": "stream",
     "text": [
      "[array([[12, 13, 14, 15]]), array([[16, 17, 18, 19]]), array([[20, 21, 22, 23]])]\n"
     ]
    }
   ],
   "source": [
    "#  VSPLIT\n",
    "#hsplit also works in the same way \n",
    "print(np.vsplit(a6,3))"
   ]
  },
  {
   "cell_type": "code",
   "execution_count": null,
   "id": "18189c45-81f6-4f33-b305-6325ec998529",
   "metadata": {},
   "outputs": [],
   "source": []
  }
 ],
 "metadata": {
  "kernelspec": {
   "display_name": "Python 3 (ipykernel)",
   "language": "python",
   "name": "python3"
  },
  "language_info": {
   "codemirror_mode": {
    "name": "ipython",
    "version": 3
   },
   "file_extension": ".py",
   "mimetype": "text/x-python",
   "name": "python",
   "nbconvert_exporter": "python",
   "pygments_lexer": "ipython3",
   "version": "3.12.4"
  }
 },
 "nbformat": 4,
 "nbformat_minor": 5
}
