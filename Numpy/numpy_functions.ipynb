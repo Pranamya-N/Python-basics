{
 "cells": [
  {
   "cell_type": "code",
   "execution_count": 6,
   "id": "55b7f617-1c05-4bed-b4c0-611e425e719e",
   "metadata": {},
   "outputs": [],
   "source": [
    "import numpy as np "
   ]
  },
  {
   "cell_type": "markdown",
   "id": "b607b63c-f2d8-47e1-9438-b696d855c206",
   "metadata": {},
   "source": [
    "# np.sort\r\n",
    "Return andnd sorted copy of an array.\r\n",
    "\r\n",
    "https://numpy.org/doc/stable/reference/generated/numpy.sort.html"
   ]
  },
  {
   "cell_type": "code",
   "execution_count": 14,
   "id": "753978e8-d3ad-4f63-9032-952e6e5acd86",
   "metadata": {},
   "outputs": [
    {
     "name": "stdout",
     "output_type": "stream",
     "text": [
      "[[33 73 16]\n",
      " [31 40 60]\n",
      " [35 87 66]\n",
      " [64 46 77]]\n",
      "[0 1 2 3 4 5 6 7 8 9]\n",
      "[[16 33 73]\n",
      " [31 40 60]\n",
      " [35 66 87]\n",
      " [46 64 77]]\n",
      "[[31 40 16]\n",
      " [33 46 60]\n",
      " [35 73 66]\n",
      " [64 87 77]]\n",
      "[9 8 7 6 5 4 3 2 1 0]\n"
     ]
    }
   ],
   "source": [
    "# it makes the array in the ascending order \n",
    "a1 = np.arange(10)\n",
    "a2 = np.random.randint(1,100,12).reshape(4,3)\n",
    "print(a2)\n",
    "print(np.sort(a1))\n",
    "print(np.sort(a2))\n",
    "print(np.sort(a2,axis = 0)) # this shorts in axis = 0  which is row \n",
    "# to sort in descending order we have to do \n",
    "print(np.sort(a1)[::-1])"
   ]
  },
  {
   "cell_type": "markdown",
   "id": "42ae8da8-ae93-48c2-b1f1-93987f460286",
   "metadata": {},
   "source": [
    "# np.append :\n",
    "The numpy.append() appends values along the mentioned axis at the end of the array\n",
    "\n",
    "https://numpy.org/doc/stable/reference/generated/numpy.append.html\n",
    "\n",
    "np.index :\n",
    "it is used to insert the cretain values at the certain indexing \n",
    "\n",
    "The np.insert() function in NumPy allows you to insert values into an array at specified indices. Here are the parameters of the np.insert() function:\n",
    "\n",
    "Syntax:\n",
    "python\n",
    "Copy code\n",
    "numpy.insert(arr, obj, values, axis=None)\n",
    "Parameters:\n",
    "arr:\n",
    "\n",
    "Type: array_like\n",
    "The input array into which you want to insert values.\n",
    "obj:\n",
    "\n",
    "Type: int, array-like of ints\n",
    "Specifies the index (or indices) before which the value is to be inserted.\n",
    "If it's a single integer, the value will be inserted before that index.\n",
    "If it's an array of indices, the values are inserted before each corresponding index.\n",
    "values:\n",
    "\n",
    "Type: array_like\n",
    "The values to insert into the array.\n",
    "If the axis is specified, values should have the same shape as arr, except at the dimension corresponding to the axis.\n",
    "If axis is not specified, values are flattened before insertion.\n",
    "axis (optional):\n",
    "\n",
    "Type: int, optional (default: None)\n",
    "The axis along which to insert the values.\n",
    "If axis=None, the array is flattened, and the values are inserted into the flattened array.\n",
    "If an axis is specified, values will be inserted along that axis\n"
   ]
  },
  {
   "cell_type": "code",
   "execution_count": 10,
   "id": "b5d96367-223b-4534-bb5e-4e58eabc595b",
   "metadata": {},
   "outputs": [
    {
     "name": "stdout",
     "output_type": "stream",
     "text": [
      "[  0   1   2 100   3   4   5   6   7   8   9]\n"
     ]
    }
   ],
   "source": [
    "np.append(a1,100)\n",
    "# this will add 100 to the last element of the array \n",
    "# to index the value at the cretain index we can do the following \n",
    "new_array = np.insert(a1,3,100)\n",
    "print(new_array)"
   ]
  },
  {
   "cell_type": "code",
   "execution_count": 23,
   "id": "e4cc86c0-bcb3-4146-a01f-c6de5e7966e7",
   "metadata": {},
   "outputs": [
    {
     "data": {
      "text/plain": [
       "array([[44., 17., 42.,  1.],\n",
       "       [69.,  8., 79.,  1.],\n",
       "       [96., 12., 82.,  1.],\n",
       "       [62., 38., 38.,  1.]])"
      ]
     },
     "execution_count": 23,
     "metadata": {},
     "output_type": "execute_result"
    }
   ],
   "source": [
    "# for 2D arrays we can do by doing this \n",
    "np.append (a2,np.ones((a2.shape[0],1)),axis=1)\n",
    "\n"
   ]
  },
  {
   "cell_type": "markdown",
   "id": "9da2c80c-6eeb-4a8f-a966-9f0f9a8bbff0",
   "metadata": {},
   "source": [
    "# np.concatenate\n",
    "numpy.concatenate() function concatenate a sequence of arrays along an existing axis.\n",
    "\n",
    "https://numpy.org/doc/stable/reference/generated/numpy.concatenate.html"
   ]
  },
  {
   "cell_type": "code",
   "execution_count": 25,
   "id": "fc75c81f-b73d-41e1-9dbe-6815c1be0e78",
   "metadata": {},
   "outputs": [
    {
     "name": "stdout",
     "output_type": "stream",
     "text": [
      "[[ 1  2]\n",
      " [ 3  4]\n",
      " [ 5  6]\n",
      " [16 19]\n",
      " [67 36]\n",
      " [79  9]]\n",
      "[[ 1  2 16 19]\n",
      " [ 3  4 67 36]\n",
      " [ 5  6 79  9]]\n"
     ]
    }
   ],
   "source": [
    "c = np.arange(1,7).reshape(3,2)\n",
    "d = np.random.randint(1,100,6).reshape(3,2)\n",
    "print(np.concatenate((c,d),axis = 0))\n",
    "print(np.concatenate((c,d),axis = 1))"
   ]
  },
  {
   "cell_type": "markdown",
   "id": "722fbc3c-6738-4ba3-b6d6-160a1c3b052b",
   "metadata": {},
   "source": [
    "# np.unique\n",
    "With the help of np.unique() method, we can get the unique values from an array given as parameter in np.unique() method.\n",
    "\n",
    "https://numpy.org/doc/stable/reference/generated/numpy.unique.html/\n",
    "\n",
    "\n"
   ]
  },
  {
   "cell_type": "code",
   "execution_count": 46,
   "id": "c2e0ca81-745c-4f6d-98ba-a9f97cbb32de",
   "metadata": {},
   "outputs": [
    {
     "data": {
      "text/plain": [
       "array([1, 2, 3, 4, 5, 6])"
      ]
     },
     "execution_count": 46,
     "metadata": {},
     "output_type": "execute_result"
    }
   ],
   "source": [
    "e = np.array((1,1,1,1,2,2,2,2,3,3,3,3,4,4,4,4,5,5,5,6,6,6,6,6))\n",
    "np.unique(e)"
   ]
  },
  {
   "cell_type": "markdown",
   "id": "d76813ef-09b8-4bff-b174-9c873e8f923f",
   "metadata": {},
   "source": [
    "# np.expand_dims\n",
    "With the help of Numpy.expand_dims() method, we can get the expanded dimensions of an array\n",
    "\n",
    "https://numpy.org/doc/stable/reference/generated/numpy.expand_dims.html\n",
    "\n"
   ]
  },
  {
   "cell_type": "code",
   "execution_count": 18,
   "id": "a6116e05-7e9d-4a2c-873a-99a485b7cf65",
   "metadata": {},
   "outputs": [
    {
     "data": {
      "text/plain": [
       "array([[0, 1, 2, 3, 4, 5, 6, 7, 8, 9]])"
      ]
     },
     "execution_count": 18,
     "metadata": {},
     "output_type": "execute_result"
    }
   ],
   "source": [
    "np.expand_dims(a1,axis=0)"
   ]
  },
  {
   "cell_type": "markdown",
   "id": "f9324eb8-4b65-423c-86e5-707df3701924",
   "metadata": {},
   "source": [
    "# np.where\n",
    "The numpy.where(a1) function returns the indices of elements in an input array where the given condition is satisfied.\n",
    "\n",
    "https://numpy.org/doc/stable/reference/generated/numpy.where.html"
   ]
  },
  {
   "cell_type": "markdown",
   "id": "5fdd9a7d-4fec-43b8-ad6e-f17c78dfc0f3",
   "metadata": {},
   "source": []
  },
  {
   "cell_type": "markdown",
   "id": "910814b3-02c2-4e19-9aa4-3accd0a8577e",
   "metadata": {},
   "source": [
    "# np.argmax\r\n",
    "The numpy.argmax() function returns indices of the max element of the array in a particular axis.\r\n",
    "\r\n",
    "https://numpy.org/doc/stable/reference/generated/numpy.argmax.h\n",
    "\r\n",
    "[ ]\r\n"
   ]
  },
  {
   "cell_type": "markdown",
   "id": "210a321b-3238-4301-b2b5-89d50cc1432b",
   "metadata": {},
   "source": []
  },
  {
   "cell_type": "markdown",
   "id": "52415763-9415-44f0-aede-b811e32c31cb",
   "metadata": {},
   "source": [
    "np.cumsum\r\n",
    "numpy.cumsum() function is used when we want to compute the cumulative sum of array elements over a given axis.\r\n",
    "\r\n",
    "https://numpy.org/doc/stable/reference/generated/numpy.cumsum.html\r\n",
    "\r\n"
   ]
  },
  {
   "cell_type": "code",
   "execution_count": null,
   "id": "47fe9814-0b2e-4f82-900e-95109b0c34b3",
   "metadata": {},
   "outputs": [],
   "source": []
  },
  {
   "cell_type": "markdown",
   "id": "d67fed06-2e66-498e-9421-4f7de0f61052",
   "metadata": {},
   "source": [
    "np.percentile\r\n",
    "numpy.percentile()function used to compute the nth percentile of the given data (array elements) along the specified axis.\r\n",
    "\r\n",
    "https://numpy.org/doc/stable/reference/generated/numpy.percentile.html"
   ]
  },
  {
   "cell_type": "code",
   "execution_count": null,
   "id": "cad0c60e-b697-4454-82de-99b62f0975ac",
   "metadata": {},
   "outputs": [],
   "source": []
  },
  {
   "cell_type": "markdown",
   "id": "6bdcad9c-94bf-4352-b760-12d291ae98cf",
   "metadata": {},
   "source": [
    "np.histogram\r\n",
    "Numpy has a built-in numpy.histogram() function which represents the frequency of data distribution in the graphical form.\r\n",
    "\r\n",
    "https://numpy.org/doc/stable/reference/generated/numpy.histogram.html\r\n",
    "[ ]\r\n"
   ]
  },
  {
   "cell_type": "code",
   "execution_count": null,
   "id": "b8d0a7c7-3e29-4d60-b72e-79ac47894955",
   "metadata": {},
   "outputs": [],
   "source": []
  },
  {
   "cell_type": "markdown",
   "id": "efe5feb5-ee14-423c-a6f0-28a63824f45e",
   "metadata": {},
   "source": [
    "np.corrcoef\r\n",
    "Return Pearson product-moment correlation coefficients.\r\n",
    "\r\n",
    "https://numpy.org/doc/stable/reference/generated/numpy.corrcoef.html"
   ]
  },
  {
   "cell_type": "code",
   "execution_count": null,
   "id": "2f5b90b5-87bd-4ba8-af48-b6a93c5e81c2",
   "metadata": {},
   "outputs": [],
   "source": []
  },
  {
   "cell_type": "markdown",
   "id": "69daa48d-eaa4-4244-938d-60496a02fbc1",
   "metadata": {},
   "source": [
    "np.isin\n",
    "With the help of numpy.isin() method, we can see that one array having values are checked in a different numpy array having different elements with different sizes.\n",
    "\n",
    "https://numpy.org/doc/stable/reference/generated/numpy.isin.html"
   ]
  },
  {
   "cell_type": "code",
   "execution_count": null,
   "id": "160e756b-3094-45b2-8e8c-a031bb5995e6",
   "metadata": {},
   "outputs": [],
   "source": []
  },
  {
   "cell_type": "markdown",
   "id": "7360951b-4fc9-45fd-9bd5-741794a887dd",
   "metadata": {},
   "source": [
    "np.flip\n",
    "The numpy.flip() function reverses the order of array elements along the specified axis, preserving the shape of the array.\n",
    "\n",
    "https://numpy.org/doc/stable/reference/generated/numpy.flip.html"
   ]
  },
  {
   "cell_type": "code",
   "execution_count": null,
   "id": "d2ae74cd-6cf5-4850-bb20-7e553e03c3a0",
   "metadata": {},
   "outputs": [],
   "source": []
  },
  {
   "cell_type": "markdown",
   "id": "e79e7be6-3f1e-44e2-b352-b04b1f001aa6",
   "metadata": {},
   "source": [
    "np.put\n",
    "The numpy.put() function replaces specific elements of an array with given values of p_array. Array indexed works on flattened array.\n",
    "\n",
    "https://numpy.org/doc/stable/reference/generated/numpy.put.html"
   ]
  },
  {
   "cell_type": "code",
   "execution_count": null,
   "id": "0b230d1a-83eb-4faa-8524-846acce155f6",
   "metadata": {},
   "outputs": [],
   "source": []
  },
  {
   "cell_type": "markdown",
   "id": "d71c2b3a-b937-41cb-bffe-283de23c1b1e",
   "metadata": {},
   "source": [
    "np.delete\n",
    "The numpy.delete() function returns a new array with the deletion of sub-arrays along with the mentioned axis.\n",
    "\n",
    "https://numpy.org/doc/stable/reference/generated/numpy.delete.html"
   ]
  },
  {
   "cell_type": "code",
   "execution_count": null,
   "id": "87d9f0e4-831c-40d1-843d-3dc13d652864",
   "metadata": {},
   "outputs": [],
   "source": []
  }
 ],
 "metadata": {
  "kernelspec": {
   "display_name": "Python 3 (ipykernel)",
   "language": "python",
   "name": "python3"
  },
  "language_info": {
   "codemirror_mode": {
    "name": "ipython",
    "version": 3
   },
   "file_extension": ".py",
   "mimetype": "text/x-python",
   "name": "python",
   "nbconvert_exporter": "python",
   "pygments_lexer": "ipython3",
   "version": "3.12.4"
  }
 },
 "nbformat": 4,
 "nbformat_minor": 5
}
